{
 "cells": [
  {
   "cell_type": "code",
   "execution_count": 1,
   "metadata": {},
   "outputs": [],
   "source": [
    "from IPython.display import Image"
   ]
  },
  {
   "cell_type": "code",
   "execution_count": 2,
   "metadata": {},
   "outputs": [
    {
     "data": {
      "text/plain": [
       "True"
      ]
     },
     "execution_count": 2,
     "metadata": {},
     "output_type": "execute_result"
    }
   ],
   "source": [
    "from pgmpy.models import BayesianNetwork\n",
    "from pgmpy.factors.discrete import TabularCPD\n",
    "\n",
    "# Defining the model structure. We can define the network by just passing a list of edges\n",
    "model = BayesianNetwork([('D', 'G'), ('I', 'G'), ('G', 'L'), ('I', 'S')])\n",
    "\n",
    "# Defining individual CPDs\n",
    "cpd_d = TabularCPD(variable='D', variable_card=2, values=[[0.6], [0.4]])\n",
    "cpd_i = TabularCPD(variable='I', variable_card=2, values=[[0.7], [0.3]])\n",
    "cpd_g = TabularCPD(variable='G', variable_card=3,\n",
    "                    values=[[0.3, 0.05, 0.9, 0.5],\n",
    "                            [0.4, 0.25, 0.08, 0.3],\n",
    "                            [0.3, 0.7, 0.02, 0.2]],\n",
    "                    evidence=['I', 'D'],\n",
    "                    evidence_card=[2, 2])\n",
    "cpd_l = TabularCPD(variable='L', variable_card=2,\n",
    "                    values=[[0.1, 0.4, 0.99],\n",
    "                            [0.9, 0.6, 0.01]],\n",
    "                    evidence=['G'],\n",
    "                    evidence_card=[3])\n",
    "cpd_s = TabularCPD(variable='S', variable_card=2,\n",
    "                    values=[[0.95, 0.2],\n",
    "                            [0.05, 0.8]],\n",
    "                    evidence=['I'],\n",
    "                    evidence_card=[2])\n",
    "\n",
    "# Associating the CPDs with the network\n",
    "model.add_cpds(cpd_d, cpd_i, cpd_g, cpd_l, cpd_s)\n",
    "\n",
    "# check_model checks for the network structure and CPDs and verifies that the CPDs are correctly defined and sum to 1\n",
    "model.check_model()\n",
    "\n"
   ]
  },
  {
   "cell_type": "code",
   "execution_count": 5,
   "metadata": {},
   "outputs": [
    {
     "data": {
      "text/plain": [
       "True"
      ]
     },
     "execution_count": 5,
     "metadata": {},
     "output_type": "execute_result"
    }
   ],
   "source": [
    "# CPDs can also be defined using the state names of the variables. If the state names are not provided\n",
    "# like in the previous example, pgmpy will automatically assign names as: 0, 1, 2, ....\n",
    "\n",
    "cpd_d_sn = TabularCPD(variable='D', variable_card=2, values=[[0.6], [0.4]], state_names={'D': ['Easy', 'Hard']})\n",
    "cpd_i_sn = TabularCPD(variable='I', variable_card=2, values=[[0.7], [0.3]], state_names={'I': ['Dumb', 'Intelligent']})\n",
    "cpd_g_sn = TabularCPD(variable='G', variable_card=3,\n",
    "                      values=[[0.3, 0.05, 0.9,  0.5],\n",
    "                              [0.4, 0.25, 0.08, 0.3],\n",
    "                              [0.3, 0.7,  0.02, 0.2]],\n",
    "                      evidence=['I', 'D'],\n",
    "                      evidence_card=[2, 2],\n",
    "                      state_names={'G': ['A', 'B', 'C'],\n",
    "                                   'I': ['Dumb', 'Intelligent'],\n",
    "                                   'D': ['Easy', 'Hard']})\n",
    "\n",
    "cpd_l_sn = TabularCPD(variable='L', variable_card=2,\n",
    "                      values=[[0.1, 0.4, 0.99],\n",
    "                              [0.9, 0.6, 0.01]],\n",
    "                      evidence=['G'],\n",
    "                      evidence_card=[3],\n",
    "                      state_names={'L': ['Bad', 'Good'],\n",
    "                                   'G': ['A', 'B', 'C']})\n",
    "\n",
    "cpd_s_sn = TabularCPD(variable='S', variable_card=2,\n",
    "                      values=[[0.95, 0.2],\n",
    "                              [0.05, 0.8]],\n",
    "                      evidence=['I'],\n",
    "                      evidence_card=[2],\n",
    "                      state_names={'S': ['Bad', 'Good'],\n",
    "                                   'I': ['Dumb', 'Intelligent']})\n",
    "\n",
    "# These defined CPDs can be added to the model. Since, the model already has CPDs associated to variables, it will\n",
    "# show warning that pmgpy is now replacing those CPDs with the new ones.\n",
    "model.add_cpds(cpd_d_sn, cpd_i_sn, cpd_g_sn, cpd_l_sn, cpd_s_sn)\n",
    "model.check_model()\n"
   ]
  },
  {
   "cell_type": "code",
   "execution_count": 6,
   "metadata": {},
   "outputs": [
    {
     "data": {
      "text/plain": [
       "[<TabularCPD representing P(D:2) at 0x7f0f3198ee20>,\n",
       " <TabularCPD representing P(I:2) at 0x7f0f3198ed60>,\n",
       " <TabularCPD representing P(G:3 | I:2, D:2) at 0x7f0fb8644220>,\n",
       " <TabularCPD representing P(L:2 | G:3) at 0x7f0fb864f2e0>,\n",
       " <TabularCPD representing P(S:2 | I:2) at 0x7f0fb85c1bb0>]"
      ]
     },
     "execution_count": 6,
     "metadata": {},
     "output_type": "execute_result"
    }
   ],
   "source": [
    "# We can now call some methods on the BayesianNetwork object\n",
    "model.get_cpds()"
   ]
  },
  {
   "cell_type": "code",
   "execution_count": 7,
   "metadata": {},
   "outputs": [
    {
     "name": "stdout",
     "output_type": "stream",
     "text": [
      "+------+------+------+------+------+\n",
      "| I    | I(0) | I(0) | I(1) | I(1) |\n",
      "+------+------+------+------+------+\n",
      "| D    | D(0) | D(1) | D(0) | D(1) |\n",
      "+------+------+------+------+------+\n",
      "| G(0) | 0.3  | 0.05 | 0.9  | 0.5  |\n",
      "+------+------+------+------+------+\n",
      "| G(1) | 0.4  | 0.25 | 0.08 | 0.3  |\n",
      "+------+------+------+------+------+\n",
      "| G(2) | 0.3  | 0.7  | 0.02 | 0.2  |\n",
      "+------+------+------+------+------+\n"
     ]
    }
   ],
   "source": [
    "# Printing a CPD which does not have state names defined\n",
    "print(cpd_g)"
   ]
  },
  {
   "cell_type": "code",
   "execution_count": 8,
   "metadata": {},
   "outputs": [
    {
     "name": "stdout",
     "output_type": "stream",
     "text": [
      "+------+---------+---------+----------------+----------------+\n",
      "| I    | I(Dumb) | I(Dumb) | I(Intelligent) | I(Intelligent) |\n",
      "+------+---------+---------+----------------+----------------+\n",
      "| D    | D(Easy) | D(Hard) | D(Easy)        | D(Hard)        |\n",
      "+------+---------+---------+----------------+----------------+\n",
      "| G(A) | 0.3     | 0.05    | 0.9            | 0.5            |\n",
      "+------+---------+---------+----------------+----------------+\n",
      "| G(B) | 0.4     | 0.25    | 0.08           | 0.3            |\n",
      "+------+---------+---------+----------------+----------------+\n",
      "| G(C) | 0.3     | 0.7     | 0.02           | 0.2            |\n",
      "+------+---------+---------+----------------+----------------+\n"
     ]
    }
   ],
   "source": [
    "# Print CPD with state names defined\n",
    "print(model.get_cpds('G'))"
   ]
  },
  {
   "cell_type": "code",
   "execution_count": 9,
   "metadata": {},
   "outputs": [
    {
     "data": {
      "text/plain": [
       "3"
      ]
     },
     "execution_count": 9,
     "metadata": {},
     "output_type": "execute_result"
    }
   ],
   "source": [
    "model.get_cardinality('G')"
   ]
  },
  {
   "cell_type": "code",
   "execution_count": 10,
   "metadata": {},
   "outputs": [
    {
     "name": "stderr",
     "output_type": "stream",
     "text": [
      "Finding Elimination Order: : 100%|██████████| 2/2 [00:00<00:00, 1081.56it/s]\n",
      "Eliminating: I: 100%|██████████| 2/2 [00:00<00:00, 426.34it/s]"
     ]
    },
    {
     "name": "stdout",
     "output_type": "stream",
     "text": [
      "+------+----------+\n",
      "| G    |   phi(G) |\n",
      "+======+==========+\n",
      "| G(A) |   0.3620 |\n",
      "+------+----------+\n",
      "| G(B) |   0.2884 |\n",
      "+------+----------+\n",
      "| G(C) |   0.3496 |\n",
      "+------+----------+\n"
     ]
    },
    {
     "name": "stderr",
     "output_type": "stream",
     "text": [
      "\n"
     ]
    }
   ],
   "source": [
    "from pgmpy.inference import VariableElimination\n",
    "\n",
    "infer = VariableElimination(model)\n",
    "g_dist = infer.query(['G'])\n",
    "print(g_dist)"
   ]
  },
  {
   "cell_type": "code",
   "execution_count": 11,
   "metadata": {},
   "outputs": [
    {
     "name": "stderr",
     "output_type": "stream",
     "text": [
      "Finding Elimination Order: : : 0it [00:00, ?it/s]\n",
      "0it [00:00, ?it/s]"
     ]
    },
    {
     "name": "stdout",
     "output_type": "stream",
     "text": [
      "+------+----------+\n",
      "| G    |   phi(G) |\n",
      "+======+==========+\n",
      "| G(A) |   0.9000 |\n",
      "+------+----------+\n",
      "| G(B) |   0.0800 |\n",
      "+------+----------+\n",
      "| G(C) |   0.0200 |\n",
      "+------+----------+\n"
     ]
    },
    {
     "name": "stderr",
     "output_type": "stream",
     "text": [
      "\n"
     ]
    }
   ],
   "source": [
    "print(infer.query(['G'], evidence={'D': 'Easy', 'I': 'Intelligent'}))"
   ]
  },
  {
   "cell_type": "code",
   "execution_count": 12,
   "metadata": {},
   "outputs": [
    {
     "name": "stderr",
     "output_type": "stream",
     "text": [
      "Finding Elimination Order: : 100%|██████████| 2/2 [00:00<00:00, 166.22it/s]\n",
      "Eliminating: I: 100%|██████████| 2/2 [00:00<00:00, 716.00it/s]\n"
     ]
    },
    {
     "data": {
      "text/plain": [
       "{'G': 'A'}"
      ]
     },
     "execution_count": 12,
     "metadata": {},
     "output_type": "execute_result"
    }
   ],
   "source": [
    "infer.map_query(['G'])"
   ]
  },
  {
   "cell_type": "code",
   "execution_count": 13,
   "metadata": {},
   "outputs": [
    {
     "name": "stderr",
     "output_type": "stream",
     "text": [
      "Finding Elimination Order: : : 0it [00:00, ?it/s]\n",
      "0it [00:00, ?it/s]\n"
     ]
    },
    {
     "data": {
      "text/plain": [
       "{'G': 'A'}"
      ]
     },
     "execution_count": 13,
     "metadata": {},
     "output_type": "execute_result"
    }
   ],
   "source": [
    "infer.map_query(['G'], evidence={'D': 'Easy', 'I': 'Intelligent'})"
   ]
  },
  {
   "cell_type": "code",
   "execution_count": 19,
   "metadata": {},
   "outputs": [
    {
     "name": "stderr",
     "output_type": "stream",
     "text": [
      "Finding Elimination Order: : : 0it [00:00, ?it/s]\n",
      "0it [00:00, ?it/s]\n"
     ]
    },
    {
     "data": {
      "text/plain": [
       "{'G': 'A'}"
      ]
     },
     "execution_count": 19,
     "metadata": {},
     "output_type": "execute_result"
    }
   ],
   "source": [
    "infer.map_query(['G'], evidence={'D': 'Hard', 'I': 'Intelligent', 'L': 'Good', 'S': 'Good'})"
   ]
  },
  {
   "cell_type": "code",
   "execution_count": 1,
   "metadata": {},
   "outputs": [
    {
     "name": "stdout",
     "output_type": "stream",
     "text": [
      "     fruit tasty   size\n",
      "0   banana   yes  large\n",
      "1    apple    no  large\n",
      "2   banana   yes  large\n",
      "3    apple   yes  small\n",
      "4   banana   yes  large\n",
      "5    apple   yes  large\n",
      "6   banana   yes  large\n",
      "7    apple   yes  small\n",
      "8    apple   yes  large\n",
      "9    apple   yes  large\n",
      "10  banana   yes  large\n",
      "11  banana    no  large\n",
      "12   apple    no  small\n",
      "13  banana    no  small\n"
     ]
    }
   ],
   "source": [
    "# Parameter learning - given a set of data samples and a DAG that captures the dependencies between the variables\n",
    "import pandas as pd\n",
    "data = pd.DataFrame(data={'fruit': [\"banana\", \"apple\", \"banana\", \"apple\", \"banana\",\"apple\", \"banana\",\n",
    "                                    \"apple\", \"apple\", \"apple\", \"banana\", \"banana\", \"apple\", \"banana\",],\n",
    "                          'tasty': [\"yes\", \"no\", \"yes\", \"yes\", \"yes\", \"yes\", \"yes\",\n",
    "                                    \"yes\", \"yes\", \"yes\", \"yes\", \"no\", \"no\", \"no\"],\n",
    "                          'size': [\"large\", \"large\", \"large\", \"small\", \"large\", \"large\", \"large\",\n",
    "                                    \"small\", \"large\", \"large\", \"large\", \"large\", \"small\", \"small\"]})\n",
    "\n",
    "print(data)"
   ]
  },
  {
   "cell_type": "code",
   "execution_count": 3,
   "metadata": {},
   "outputs": [],
   "source": [
    "from pgmpy.models import BayesianNetwork\n",
    "fruit_model = BayesianNetwork([('fruit', 'tasty'), ('size', 'tasty')])"
   ]
  },
  {
   "cell_type": "code",
   "execution_count": 4,
   "metadata": {},
   "outputs": [
    {
     "name": "stdout",
     "output_type": "stream",
     "text": [
      "\n",
      "         fruit\n",
      "apple       7\n",
      "banana      7\n",
      "\n",
      " fruit apple       banana      \n",
      "size  large small  large small\n",
      "tasty                         \n",
      "no      1.0   1.0    1.0   1.0\n",
      "yes     3.0   2.0    5.0   0.0\n"
     ]
    }
   ],
   "source": [
    "from pgmpy.estimators import ParameterEstimator\n",
    "pe = ParameterEstimator(fruit_model, data)\n",
    "print(\"\\n\", pe.state_counts('fruit'))\n",
    "print(\"\\n\", pe.state_counts('tasty'))"
   ]
  },
  {
   "cell_type": "code",
   "execution_count": 9,
   "metadata": {},
   "outputs": [
    {
     "name": "stdout",
     "output_type": "stream",
     "text": [
      "+---------------+-----+\n",
      "| fruit(apple)  | 0.5 |\n",
      "+---------------+-----+\n",
      "| fruit(banana) | 0.5 |\n",
      "+---------------+-----+\n",
      "+------------+--------------+-----+---------------+\n",
      "| fruit      | fruit(apple) | ... | fruit(banana) |\n",
      "+------------+--------------+-----+---------------+\n",
      "| size       | size(large)  | ... | size(small)   |\n",
      "+------------+--------------+-----+---------------+\n",
      "| tasty(no)  | 0.25         | ... | 1.0           |\n",
      "+------------+--------------+-----+---------------+\n",
      "| tasty(yes) | 0.75         | ... | 0.0           |\n",
      "+------------+--------------+-----+---------------+\n"
     ]
    }
   ],
   "source": [
    "from pgmpy.estimators import MaximumLikelihoodEstimator\n",
    "mle = MaximumLikelihoodEstimator(fruit_model, data)\n",
    "print(mle.estimate_cpd('fruit'))\n",
    "print(mle.estimate_cpd('tasty'))"
   ]
  },
  {
   "cell_type": "code",
   "execution_count": 10,
   "metadata": {},
   "outputs": [],
   "source": [
    "fruit_model.fit(data, estimator=MaximumLikelihoodEstimator)"
   ]
  },
  {
   "cell_type": "code",
   "execution_count": 11,
   "metadata": {},
   "outputs": [
    {
     "name": "stdout",
     "output_type": "stream",
     "text": [
      "+------------+---------------------+-----+---------------------+\n",
      "| fruit      | fruit(apple)        | ... | fruit(banana)       |\n",
      "+------------+---------------------+-----+---------------------+\n",
      "| size       | size(large)         | ... | size(small)         |\n",
      "+------------+---------------------+-----+---------------------+\n",
      "| tasty(no)  | 0.34615384615384615 | ... | 0.6428571428571429  |\n",
      "+------------+---------------------+-----+---------------------+\n",
      "| tasty(yes) | 0.6538461538461539  | ... | 0.35714285714285715 |\n",
      "+------------+---------------------+-----+---------------------+\n"
     ]
    }
   ],
   "source": [
    "from pgmpy.estimators import BayesianEstimator\n",
    "est = BayesianEstimator(fruit_model, data)\n",
    "\n",
    "print(est.estimate_cpd('tasty', prior_type='BDeu', equivalent_sample_size=10))"
   ]
  },
  {
   "cell_type": "code",
   "execution_count": 12,
   "metadata": {},
   "outputs": [
    {
     "name": "stdout",
     "output_type": "stream",
     "text": [
      "+---------------+-----+\n",
      "| fruit(apple)  | 0.5 |\n",
      "+---------------+-----+\n",
      "| fruit(banana) | 0.5 |\n",
      "+---------------+-----+\n",
      "+------------+--------------+-----+---------------+\n",
      "| fruit      | fruit(apple) | ... | fruit(banana) |\n",
      "+------------+--------------+-----+---------------+\n",
      "| size       | size(large)  | ... | size(small)   |\n",
      "+------------+--------------+-----+---------------+\n",
      "| tasty(no)  | 0.25         | ... | 1.0           |\n",
      "+------------+--------------+-----+---------------+\n",
      "| tasty(yes) | 0.75         | ... | 0.0           |\n",
      "+------------+--------------+-----+---------------+\n",
      "+-------------+----------+\n",
      "| size(large) | 0.714286 |\n",
      "+-------------+----------+\n",
      "| size(small) | 0.285714 |\n",
      "+-------------+----------+\n"
     ]
    }
   ],
   "source": [
    "for cpd in fruit_model.get_cpds():\n",
    "    print(cpd)"
   ]
  },
  {
   "cell_type": "code",
   "execution_count": null,
   "metadata": {},
   "outputs": [],
   "source": []
  }
 ],
 "metadata": {
  "kernelspec": {
   "display_name": "Python 3.9.12 ('bayes')",
   "language": "python",
   "name": "python3"
  },
  "language_info": {
   "codemirror_mode": {
    "name": "ipython",
    "version": 3
   },
   "file_extension": ".py",
   "mimetype": "text/x-python",
   "name": "python",
   "nbconvert_exporter": "python",
   "pygments_lexer": "ipython3",
   "version": "3.9.12"
  },
  "orig_nbformat": 4,
  "vscode": {
   "interpreter": {
    "hash": "ff8404454e5876bef6b54937c5665957a74af51e6e698f87fecd1ff8a5ed6cbe"
   }
  }
 },
 "nbformat": 4,
 "nbformat_minor": 2
}
