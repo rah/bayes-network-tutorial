{
 "cells": [
  {
   "cell_type": "code",
   "execution_count": 7,
   "metadata": {},
   "outputs": [],
   "source": [
    "from pgmpy.models import BayesianNetwork\n",
    "\n",
    "cancer_model = BayesianNetwork(\n",
    "    [\n",
    "        (\"Pollution\", \"Cancer\"),\n",
    "        (\"Smoker\", \"Cancer\"),\n",
    "        (\"Cancer\", \"Xray\"),\n",
    "        (\"Cancer\", \"Dyspnoea\"),\n",
    "    ]\n",
    ")"
   ]
  },
  {
   "cell_type": "code",
   "execution_count": 8,
   "metadata": {},
   "outputs": [],
   "source": [
    "from pgmpy.factors.discrete import TabularCPD\n",
    "\n",
    "cpd_poll = TabularCPD(variable=\"Pollution\", variable_card=2, values=[[0.9], [0.1]])\n",
    "cpd_smoke = TabularCPD(variable=\"Smoker\", variable_card=2, values=[[0.3], [0.7]])\n",
    "cpd_cancer = TabularCPD(\n",
    "    variable=\"Cancer\",\n",
    "    variable_card=2,\n",
    "    values=[[0.03, 0.05, 0.001, 0.02], [0.97, 0.95, 0.999, 0.98]],\n",
    "    evidence=[\"Smoker\", \"Pollution\"],\n",
    "    evidence_card=[2, 2],\n",
    ")\n",
    "cpd_xray = TabularCPD(\n",
    "    variable=\"Xray\",\n",
    "    variable_card=2,\n",
    "    values=[[0.9, 0.2], [0.1, 0.8]],\n",
    "    evidence=[\"Cancer\"],\n",
    "    evidence_card=[2],\n",
    ")\n",
    "cpd_dysp = TabularCPD(\n",
    "    variable=\"Dyspnoea\",\n",
    "    variable_card=2,\n",
    "    values=[[0.65, 0.3], [0.35, 0.7]],\n",
    "    evidence=[\"Cancer\"],\n",
    "    evidence_card=[2],\n",
    ")"
   ]
  },
  {
   "cell_type": "code",
   "execution_count": 9,
   "metadata": {},
   "outputs": [
    {
     "data": {
      "text/plain": [
       "True"
      ]
     },
     "execution_count": 9,
     "metadata": {},
     "output_type": "execute_result"
    }
   ],
   "source": [
    "# Associating the parameters with the model structure\n",
    "cancer_model.add_cpds(cpd_poll, cpd_smoke, cpd_cancer, cpd_xray, cpd_dysp)\n",
    "\n",
    "# Check if the cpds are valid for the model\n",
    "cancer_model.check_model()"
   ]
  },
  {
   "cell_type": "code",
   "execution_count": 10,
   "metadata": {},
   "outputs": [
    {
     "name": "stdout",
     "output_type": "stream",
     "text": [
      "False\n",
      "True\n"
     ]
    }
   ],
   "source": [
    "# Check for d-separation between variables\n",
    "print(cancer_model.is_dconnected(\"Pollution\", \"Smoker\"))\n",
    "print(cancer_model.is_dconnected(\"Pollution\", \"Smoker\", observed=[\"Cancer\"]))"
   ]
  },
  {
   "cell_type": "code",
   "execution_count": 11,
   "metadata": {},
   "outputs": [
    {
     "data": {
      "text/plain": [
       "(Xray ⟂ Pollution, Smoker, Dyspnoea | Cancer)"
      ]
     },
     "execution_count": 11,
     "metadata": {},
     "output_type": "execute_result"
    }
   ],
   "source": [
    "# List local dependencies for a node\n",
    "cancer_model.local_independencies(\"Xray\")"
   ]
  },
  {
   "cell_type": "code",
   "execution_count": 12,
   "metadata": {},
   "outputs": [
    {
     "data": {
      "text/plain": [
       "(Xray ⟂ Pollution, Smoker, Dyspnoea | Cancer)\n",
       "(Xray ⟂ Smoker, Dyspnoea | Pollution, Cancer)\n",
       "(Xray ⟂ Pollution, Dyspnoea | Cancer, Smoker)\n",
       "(Xray ⟂ Pollution, Smoker | Cancer, Dyspnoea)\n",
       "(Xray ⟂ Dyspnoea | Pollution, Smoker, Cancer)\n",
       "(Xray ⟂ Smoker | Pollution, Dyspnoea, Cancer)\n",
       "(Xray ⟂ Pollution | Cancer, Smoker, Dyspnoea)\n",
       "(Smoker ⟂ Pollution)\n",
       "(Smoker ⟂ Xray, Dyspnoea | Cancer)\n",
       "(Smoker ⟂ Xray, Dyspnoea | Pollution, Cancer)\n",
       "(Smoker ⟂ Dyspnoea | Cancer, Xray)\n",
       "(Smoker ⟂ Xray | Cancer, Dyspnoea)\n",
       "(Smoker ⟂ Dyspnoea | Pollution, Xray, Cancer)\n",
       "(Smoker ⟂ Xray | Pollution, Dyspnoea, Cancer)\n",
       "(Pollution ⟂ Smoker)\n",
       "(Pollution ⟂ Xray, Dyspnoea | Cancer)\n",
       "(Pollution ⟂ Dyspnoea | Cancer, Xray)\n",
       "(Pollution ⟂ Xray | Cancer, Dyspnoea)\n",
       "(Pollution ⟂ Xray, Dyspnoea | Cancer, Smoker)\n",
       "(Pollution ⟂ Dyspnoea | Cancer, Xray, Smoker)\n",
       "(Pollution ⟂ Xray | Cancer, Smoker, Dyspnoea)\n",
       "(Dyspnoea ⟂ Pollution, Xray, Smoker | Cancer)\n",
       "(Dyspnoea ⟂ Xray, Smoker | Pollution, Cancer)\n",
       "(Dyspnoea ⟂ Pollution, Smoker | Cancer, Xray)\n",
       "(Dyspnoea ⟂ Pollution, Xray | Cancer, Smoker)\n",
       "(Dyspnoea ⟂ Smoker | Pollution, Xray, Cancer)\n",
       "(Dyspnoea ⟂ Xray | Pollution, Smoker, Cancer)\n",
       "(Dyspnoea ⟂ Pollution | Cancer, Xray, Smoker)"
      ]
     },
     "execution_count": 12,
     "metadata": {},
     "output_type": "execute_result"
    }
   ],
   "source": [
    "# Get all model implied independence conditions\n",
    "cancer_model.get_independencies()"
   ]
  }
 ],
 "metadata": {
  "kernelspec": {
   "display_name": "Python 3.9.12 ('bayes')",
   "language": "python",
   "name": "python3"
  },
  "language_info": {
   "codemirror_mode": {
    "name": "ipython",
    "version": 3
   },
   "file_extension": ".py",
   "mimetype": "text/x-python",
   "name": "python",
   "nbconvert_exporter": "python",
   "pygments_lexer": "ipython3",
   "version": "3.9.12"
  },
  "orig_nbformat": 4,
  "vscode": {
   "interpreter": {
    "hash": "ff8404454e5876bef6b54937c5665957a74af51e6e698f87fecd1ff8a5ed6cbe"
   }
  }
 },
 "nbformat": 4,
 "nbformat_minor": 2
}
