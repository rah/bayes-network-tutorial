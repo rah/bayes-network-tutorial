{
 "cells": [
  {
   "cell_type": "markdown",
   "metadata": {},
   "source": [
    "3. Causal Bayesian Networks"
   ]
  }
 ],
 "metadata": {
  "kernelspec": {
   "display_name": "Python 3.9.12 ('bayes')",
   "language": "python",
   "name": "python3"
  },
  "language_info": {
   "name": "python",
   "version": "3.9.12"
  },
  "orig_nbformat": 4,
  "vscode": {
   "interpreter": {
    "hash": "ff8404454e5876bef6b54937c5665957a74af51e6e698f87fecd1ff8a5ed6cbe"
   }
  }
 },
 "nbformat": 4,
 "nbformat_minor": 2
}
