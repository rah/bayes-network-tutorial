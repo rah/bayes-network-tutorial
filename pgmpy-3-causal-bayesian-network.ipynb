{
 "cells": [
  {
   "cell_type": "markdown",
   "metadata": {},
   "source": [
    "# 3. Causal Bayesian Networks"
   ]
  },
  {
   "cell_type": "code",
   "execution_count": 13,
   "metadata": {},
   "outputs": [],
   "source": [
    "import matplotlib.pyplot as plt\n",
    "%matplotlib inline\n",
    "\n",
    "plt.style.use('default')\n",
    "\n",
    "import daft\n",
    "from daft import PGM"
   ]
  },
  {
   "cell_type": "code",
   "execution_count": 17,
   "metadata": {},
   "outputs": [],
   "source": [
    "from pgmpy.models.BayesianNetwork import BayesianNetwork\n",
    "from pgmpy.inference.CausalInference import CausalInference"
   ]
  },
  {
   "cell_type": "code",
   "execution_count": 18,
   "metadata": {},
   "outputs": [],
   "source": [
    "def convert_pgm_to_pgmpy(pgm):\n",
    "    \"\"\"Takes a Daft PGM object and converts it to a pgmpy BayesianModel\"\"\"\n",
    "    edges = [(edge.node1.name, edge.node2.name) for edge in pgm._edges]\n",
    "    model = BayesianNetwork(edges)\n",
    "\n",
    "    return model"
   ]
  },
  {
   "cell_type": "code",
   "execution_count": 19,
   "metadata": {},
   "outputs": [
    {
     "data": {
      "image/png": "[encoded data removed]",
      "text/plain": [
       "<Figure size 314.961x236.22 with 1 Axes>"
      ]
     },
     "metadata": {},
     "output_type": "display_data"
    }
   ],
   "source": [
    "# Game 1 - While this is a \"trivial\" example, many statisticians would consider including \n",
    "# either or both A and B in their models \"just for good measure\".  Notice though how controlling \n",
    "# for A would close off the path of causal information from X to Y, actually *impeding* \n",
    "# your effort to measure that effect.\n",
    "\n",
    "pgm = PGM(shape=[4, 3])\n",
    "\n",
    "pgm.add_node(daft.Node('X', r\"X\", 1, 2))\n",
    "pgm.add_node(daft.Node('Y', r\"Y\", 3, 2))\n",
    "pgm.add_node(daft.Node('A', r\"A\", 2, 2))\n",
    "pgm.add_node(daft.Node('B', r\"B\", 2, 1))\n",
    "\n",
    "pgm.add_edge('X', 'A')\n",
    "pgm.add_edge('A', 'Y')\n",
    "pgm.add_edge('A', 'B')\n",
    "\n",
    "pgm.render()\n",
    "plt.show()\n"
   ]
  },
  {
   "cell_type": "code",
   "execution_count": 20,
   "metadata": {},
   "outputs": [
    {
     "name": "stdout",
     "output_type": "stream",
     "text": [
      "frozenset()\n"
     ]
    }
   ],
   "source": [
    "# Notice how there are no nodes with arrows pointing into X.  Said another way, X has no parents.  \n",
    "# Therefore, there can't be any backdoor paths confounding X and Y.  pgmpy will confirm this in the following way:\n",
    "\n",
    "game1 = convert_pgm_to_pgmpy(pgm)\n",
    "inference1 = CausalInference(game1)\n",
    "\n",
    "adj_sets = inference1.get_all_backdoor_adjustment_sets(\"X\", \"Y\")\n",
    "print(adj_sets)"
   ]
  }
 ],
 "metadata": {
  "kernelspec": {
   "display_name": "Python 3.9.12 ('bayes')",
   "language": "python",
   "name": "python3"
  },
  "language_info": {
   "codemirror_mode": {
    "name": "ipython",
    "version": 3
   },
   "file_extension": ".py",
   "mimetype": "text/x-python",
   "name": "python",
   "nbconvert_exporter": "python",
   "pygments_lexer": "ipython3",
   "version": "3.9.12"
  },
  "orig_nbformat": 4,
  "vscode": {
   "interpreter": {
    "hash": "ff8404454e5876bef6b54937c5665957a74af51e6e698f87fecd1ff8a5ed6cbe"
   }
  }
 },
 "nbformat": 4,
 "nbformat_minor": 2
}
